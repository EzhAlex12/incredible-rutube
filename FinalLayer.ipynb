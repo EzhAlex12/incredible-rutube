{
 "cells": [
  {
   "cell_type": "markdown",
   "id": "d95fa477",
   "metadata": {},
   "source": [
    "**Installing of all neccessary modules**"
   ]
  },
  {
   "cell_type": "code",
   "execution_count": null,
   "id": "fd7ff0d5-01d3-484a-95ca-e99bbce4dc97",
   "metadata": {
    "execution": {
     "iopub.execute_input": "2023-10-14T12:26:37.385128Z",
     "iopub.status.busy": "2023-10-14T12:26:37.384072Z",
     "iopub.status.idle": "2023-10-14T12:26:44.020874Z",
     "shell.execute_reply": "2023-10-14T12:26:44.019523Z",
     "shell.execute_reply.started": "2023-10-14T12:26:37.385055Z"
    },
    "tags": []
   },
   "outputs": [],
   "source": [
    "%pip install torch"
   ]
  },
  {
   "cell_type": "code",
   "execution_count": null,
   "id": "dd637bfc-c820-4432-8a3b-ee1dde10aee9",
   "metadata": {
    "execution": {
     "iopub.execute_input": "2023-10-14T12:26:44.023618Z",
     "iopub.status.busy": "2023-10-14T12:26:44.022784Z",
     "iopub.status.idle": "2023-10-14T12:26:51.118438Z",
     "shell.execute_reply": "2023-10-14T12:26:51.117257Z",
     "shell.execute_reply.started": "2023-10-14T12:26:44.023562Z"
    },
    "tags": []
   },
   "outputs": [],
   "source": [
    "%pip install accelerate"
   ]
  },
  {
   "cell_type": "code",
   "execution_count": null,
   "id": "72047b87-0621-4b75-ab08-9df9c32161d3",
   "metadata": {
    "execution": {
     "iopub.execute_input": "2023-10-14T12:26:51.121616Z",
     "iopub.status.busy": "2023-10-14T12:26:51.120957Z",
     "iopub.status.idle": "2023-10-14T12:26:57.920674Z",
     "shell.execute_reply": "2023-10-14T12:26:57.919464Z",
     "shell.execute_reply.started": "2023-10-14T12:26:51.121579Z"
    },
    "tags": []
   },
   "outputs": [],
   "source": [
    "%pip install diffusers"
   ]
  },
  {
   "cell_type": "code",
   "execution_count": null,
   "id": "2900210b-bc60-46df-b465-bddc2d18f732",
   "metadata": {
    "execution": {
     "iopub.execute_input": "2023-10-14T12:26:57.923789Z",
     "iopub.status.busy": "2023-10-14T12:26:57.922915Z",
     "iopub.status.idle": "2023-10-14T12:27:04.668753Z",
     "shell.execute_reply": "2023-10-14T12:27:04.667524Z",
     "shell.execute_reply.started": "2023-10-14T12:26:57.923724Z"
    },
    "tags": []
   },
   "outputs": [],
   "source": [
    "%pip install transformers"
   ]
  },
  {
   "cell_type": "code",
   "execution_count": null,
   "id": "253c5da5-e5f8-4263-9ba0-6e30aca8da95",
   "metadata": {
    "execution": {
     "iopub.execute_input": "2023-10-14T12:27:04.671590Z",
     "iopub.status.busy": "2023-10-14T12:27:04.670518Z",
     "iopub.status.idle": "2023-10-14T12:27:08.822049Z",
     "shell.execute_reply": "2023-10-14T12:27:08.820839Z",
     "shell.execute_reply.started": "2023-10-14T12:27:04.671536Z"
    },
    "tags": []
   },
   "outputs": [],
   "source": [
    "from diffusers import DiffusionPipeline\n",
    "import torch\n",
    "import os"
   ]
  },
  {
   "cell_type": "markdown",
   "id": "5df1af6a",
   "metadata": {},
   "source": [
    "***User's promt***"
   ]
  },
  {
   "cell_type": "code",
   "execution_count": null,
   "id": "7da69d8a",
   "metadata": {},
   "outputs": [],
   "source": [
    "compressed_text = '''Your text here'''"
   ]
  },
  {
   "cell_type": "markdown",
   "id": "60fd3949",
   "metadata": {},
   "source": [
    "**Build pretrained model using specific style**"
   ]
  },
  {
   "cell_type": "code",
   "execution_count": null,
   "id": "ad3ccd63-6a3b-43d6-85da-39ee76b6fea6",
   "metadata": {
    "execution": {
     "iopub.execute_input": "2023-10-14T12:27:08.824405Z",
     "iopub.status.busy": "2023-10-14T12:27:08.823372Z",
     "iopub.status.idle": "2023-10-14T12:31:23.690079Z",
     "shell.execute_reply": "2023-10-14T12:31:23.688580Z",
     "shell.execute_reply.started": "2023-10-14T12:27:08.824353Z"
    },
    "tags": []
   },
   "outputs": [],
   "source": [
    "pipeline = DiffusionPipeline.from_pretrained(\"stabilityai/stable-diffusion-xl-base-1.0\", torch_dtype=torch.float32)\n",
    "pipeline.load_lora_weights(\"nerijs/pixel-art-xl\")"
   ]
  },
  {
   "cell_type": "markdown",
   "id": "d92c7fa3",
   "metadata": {},
   "source": [
    "**Make request**"
   ]
  },
  {
   "cell_type": "code",
   "execution_count": null,
   "id": "0174a000-a6c6-451b-9f42-8e996ec72384",
   "metadata": {
    "execution": {
     "iopub.execute_input": "2023-10-14T12:56:30.199359Z",
     "iopub.status.busy": "2023-10-14T12:56:30.197790Z",
     "iopub.status.idle": "2023-10-14T12:56:55.297790Z",
     "shell.execute_reply": "2023-10-14T12:56:55.296605Z",
     "shell.execute_reply.started": "2023-10-14T12:56:30.199282Z"
    },
    "tags": []
   },
   "outputs": [],
   "source": [
    "pipeline.to(\"cuda\")\n",
    "image = pipeline(compressed_text, negative_prompt='ugly, tiling, poorly drawn hands, poorly drawn feet, poorly drawn face, out of frame, extra limbs, disfigured, deformed, body out of frame, blurry, bad anatomy, blurred, watermark, grainy, signature, cut off, draft').images[0]"
   ]
  },
  {
   "cell_type": "markdown",
   "id": "a1b28850",
   "metadata": {},
   "source": [
    "**Other**"
   ]
  },
  {
   "cell_type": "code",
   "execution_count": null,
   "id": "01c1e7ee-1603-4a54-b2ec-b98c84709db3",
   "metadata": {
    "execution": {
     "iopub.execute_input": "2023-10-14T13:00:39.354328Z",
     "iopub.status.busy": "2023-10-14T13:00:39.353122Z",
     "iopub.status.idle": "2023-10-14T13:00:39.385254Z",
     "shell.execute_reply": "2023-10-14T13:00:39.384178Z",
     "shell.execute_reply.started": "2023-10-14T13:00:39.354250Z"
    },
    "tags": []
   },
   "outputs": [],
   "source": [
    "os.stat('./out.jpg').st_size / 1024 / 1024"
   ]
  },
  {
   "cell_type": "code",
   "execution_count": null,
   "id": "0b777c85-b597-4b4e-a92e-c22fcf0fdc3b",
   "metadata": {
    "execution": {
     "iopub.execute_input": "2023-10-14T13:01:11.984809Z",
     "iopub.status.busy": "2023-10-14T13:01:11.983714Z",
     "iopub.status.idle": "2023-10-14T13:01:12.190777Z",
     "shell.execute_reply": "2023-10-14T13:01:12.189603Z",
     "shell.execute_reply.started": "2023-10-14T13:01:11.984765Z"
    },
    "tags": []
   },
   "outputs": [],
   "source": [
    "image"
   ]
  }
 ],
 "metadata": {
  "kernelspec": {
   "display_name": "DataSphere Kernel",
   "language": "python",
   "name": "python3"
  },
  "language_info": {
   "codemirror_mode": {
    "name": "ipython",
    "version": 3
   },
   "file_extension": ".py",
   "mimetype": "text/x-python",
   "name": "python",
   "nbconvert_exporter": "python",
   "pygments_lexer": "ipython3",
   "version": "3.7.7"
  }
 },
 "nbformat": 4,
 "nbformat_minor": 5
}
